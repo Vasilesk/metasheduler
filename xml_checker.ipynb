{
 "cells": [
  {
   "cell_type": "code",
   "execution_count": 4,
   "metadata": {},
   "outputs": [],
   "source": [
    "from bs4 import BeautifulSoup\n",
    "def check_output_ok(filename):\n",
    "    content = None\n",
    "    with open(filename, \"r\") as f:\n",
    "        content = f.read()\n",
    "    bs = BeautifulSoup(content, 'xml')\n",
    "    \n",
    "    ok = True\n",
    "    for tenant_bs in bs.find_all(\"tenant\"):\n",
    "        assigned = [(x.get(\"assignedTo\", None) is not None) for x in (list(tenant_bs.find_all(\"vm\")) + list(tenant_bs.find_all(\"st\")))]\n",
    "        if all(assigned) != any(assigned):\n",
    "            print(\"bad output for tenant {}\".format(tenant_bs[\"name\"]))\n",
    "            ok = False\n",
    "            \n",
    "    return ok\n"
   ]
  },
  {
   "cell_type": "code",
   "execution_count": 5,
   "metadata": {},
   "outputs": [
    {
     "data": {
      "text/plain": [
       "True"
      ]
     },
     "execution_count": 5,
     "metadata": {},
     "output_type": "execute_result"
    }
   ],
   "source": [
    "check_output_ok(\"for_local_run/true_andrei.xml\")"
   ]
  },
  {
   "cell_type": "code",
   "execution_count": 6,
   "metadata": {},
   "outputs": [
    {
     "data": {
      "text/plain": [
       "True"
      ]
     },
     "execution_count": 6,
     "metadata": {},
     "output_type": "execute_result"
    }
   ],
   "source": [
    "check_output_ok(\"for_local_run/twostage.xml\")"
   ]
  },
  {
   "cell_type": "code",
   "execution_count": 7,
   "metadata": {},
   "outputs": [
    {
     "name": "stdout",
     "output_type": "stream",
     "text": [
      "bad output for tenant 1693\n",
      "bad output for tenant 2192\n",
      "bad output for tenant 2100\n",
      "bad output for tenant 632\n",
      "bad output for tenant 2108\n",
      "bad output for tenant 985\n",
      "bad output for tenant 1397\n",
      "bad output for tenant 1558\n",
      "bad output for tenant 1723\n",
      "bad output for tenant 268\n",
      "bad output for tenant 2034\n",
      "bad output for tenant 1450\n",
      "bad output for tenant 1759\n",
      "bad output for tenant 1106\n",
      "bad output for tenant 529\n",
      "bad output for tenant 1435\n",
      "bad output for tenant 460\n",
      "bad output for tenant 1728\n",
      "bad output for tenant 1876\n",
      "bad output for tenant 2264\n",
      "bad output for tenant 2216\n",
      "bad output for tenant 2040\n",
      "bad output for tenant 1174\n",
      "bad output for tenant 994\n",
      "bad output for tenant 880\n",
      "bad output for tenant 1847\n",
      "bad output for tenant 1626\n",
      "bad output for tenant 1448\n",
      "bad output for tenant 423\n",
      "bad output for tenant 341\n",
      "bad output for tenant 2231\n",
      "bad output for tenant 1977\n",
      "bad output for tenant 1297\n",
      "bad output for tenant 609\n",
      "bad output for tenant 1379\n",
      "bad output for tenant 2000\n",
      "bad output for tenant 1083\n",
      "bad output for tenant 504\n",
      "bad output for tenant 991\n",
      "bad output for tenant 1082\n",
      "bad output for tenant 1570\n",
      "bad output for tenant 244\n",
      "bad output for tenant 1923\n",
      "bad output for tenant 1786\n",
      "bad output for tenant 1486\n",
      "bad output for tenant 687\n",
      "bad output for tenant 324\n",
      "bad output for tenant 1150\n",
      "bad output for tenant 764\n",
      "bad output for tenant 647\n",
      "bad output for tenant 2044\n",
      "bad output for tenant 75\n",
      "bad output for tenant 2083\n",
      "bad output for tenant 466\n",
      "bad output for tenant 253\n",
      "bad output for tenant 1423\n",
      "bad output for tenant 223\n",
      "bad output for tenant 1932\n",
      "bad output for tenant 1548\n",
      "bad output for tenant 1008\n",
      "bad output for tenant 517\n",
      "bad output for tenant 1618\n",
      "bad output for tenant 532\n",
      "bad output for tenant 2052\n",
      "bad output for tenant 1324\n",
      "bad output for tenant 496\n",
      "bad output for tenant 2022\n",
      "bad output for tenant 2065\n",
      "bad output for tenant 1530\n",
      "bad output for tenant 340\n",
      "bad output for tenant 1159\n",
      "bad output for tenant 618\n",
      "bad output for tenant 1515\n",
      "bad output for tenant 1354\n",
      "bad output for tenant 1298\n",
      "bad output for tenant 2094\n",
      "bad output for tenant 669\n",
      "bad output for tenant 1713\n",
      "bad output for tenant 1569\n",
      "bad output for tenant 1427\n",
      "bad output for tenant 846\n",
      "bad output for tenant 1152\n",
      "bad output for tenant 1180\n",
      "bad output for tenant 1453\n",
      "bad output for tenant 733\n",
      "bad output for tenant 240\n",
      "bad output for tenant 467\n",
      "bad output for tenant 1068\n",
      "bad output for tenant 1287\n",
      "bad output for tenant 1555\n",
      "bad output for tenant 1079\n"
     ]
    },
    {
     "data": {
      "text/plain": [
       "False"
      ]
     },
     "execution_count": 7,
     "metadata": {},
     "output_type": "execute_result"
    }
   ],
   "source": [
    "check_output_ok(\"for_local_run/yulia.xml\")"
   ]
  },
  {
   "cell_type": "code",
   "execution_count": null,
   "metadata": {},
   "outputs": [],
   "source": []
  },
  {
   "cell_type": "code",
   "execution_count": null,
   "metadata": {},
   "outputs": [],
   "source": []
  },
  {
   "cell_type": "code",
   "execution_count": null,
   "metadata": {},
   "outputs": [],
   "source": []
  },
  {
   "cell_type": "code",
   "execution_count": null,
   "metadata": {},
   "outputs": [],
   "source": []
  }
 ],
 "metadata": {
  "kernelspec": {
   "display_name": "Python 3",
   "language": "python",
   "name": "python3"
  },
  "language_info": {
   "codemirror_mode": {
    "name": "ipython",
    "version": 3
   },
   "file_extension": ".py",
   "mimetype": "text/x-python",
   "name": "python",
   "nbconvert_exporter": "python",
   "pygments_lexer": "ipython3",
   "version": "3.5.5"
  }
 },
 "nbformat": 4,
 "nbformat_minor": 2
}
