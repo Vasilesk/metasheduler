{
 "cells": [
  {
   "cell_type": "code",
   "execution_count": 1,
   "metadata": {},
   "outputs": [],
   "source": [
    "from data_loader import from_directory, into_directory\n",
    "from evaluators import Evaluator_sum, Evaluator_naive, Evaluator_detailed\n",
    "from algo import main_algo\n",
    "\n",
    "from strategies import get_dcs_random, get_dcs_utilized, get_dcs_emptiest\n",
    "from strategies import get_tenants_random, get_tenants_heaviest, get_tenants_lightest\n",
    "\n",
    "from checking_results import utilization_dcs, placement_tenants\n",
    "from checking_results import dump_experiment\n",
    "\n",
    "from experiments import empty_experiment_run, experiment_run\n",
    "\n",
    "import os"
   ]
  },
  {
   "cell_type": "markdown",
   "metadata": {},
   "source": [
    "## Yulia"
   ]
  },
  {
   "cell_type": "code",
   "execution_count": 2,
   "metadata": {},
   "outputs": [
    {
     "ename": "KeyboardInterrupt",
     "evalue": "",
     "output_type": "error",
     "traceback": [
      "\u001b[0;31m---------------------------------------------------------------------------\u001b[0m",
      "\u001b[0;31mKeyboardInterrupt\u001b[0m                         Traceback (most recent call last)",
      "\u001b[0;32m<timed eval>\u001b[0m in \u001b[0;36m<module>\u001b[0;34m()\u001b[0m\n",
      "\u001b[0;32m~/diploma_code/sending/experiments.py\u001b[0m in \u001b[0;36mempty_experiment_run\u001b[0;34m(algo, s_evaluator, s_tenant_strategy, s_dc_strategy)\u001b[0m\n\u001b[1;32m    102\u001b[0m     \u001b[0me\u001b[0m \u001b[0;34m=\u001b[0m \u001b[0mmap_evaluator\u001b[0m\u001b[0;34m[\u001b[0m\u001b[0ms_evaluator\u001b[0m\u001b[0;34m]\u001b[0m\u001b[0;34m(\u001b[0m\u001b[0;34m)\u001b[0m\u001b[0;34m\u001b[0m\u001b[0m\n\u001b[1;32m    103\u001b[0m \u001b[0;34m\u001b[0m\u001b[0m\n\u001b[0;32m--> 104\u001b[0;31m     \u001b[0mdcs\u001b[0m\u001b[0;34m,\u001b[0m \u001b[0mtenants\u001b[0m \u001b[0;34m=\u001b[0m \u001b[0mfrom_directory\u001b[0m\u001b[0;34m(\u001b[0m\u001b[0;34m\"examples/dcs_empty_sorted/\"\u001b[0m\u001b[0;34m)\u001b[0m\u001b[0;34m\u001b[0m\u001b[0m\n\u001b[0m\u001b[1;32m    105\u001b[0m     \u001b[0mtenants1\u001b[0m\u001b[0;34m,\u001b[0m \u001b[0mtenants2\u001b[0m \u001b[0;34m=\u001b[0m \u001b[0mtenants\u001b[0m\u001b[0;34m[\u001b[0m\u001b[0;34m:\u001b[0m\u001b[0;36m800\u001b[0m\u001b[0;34m]\u001b[0m\u001b[0;34m,\u001b[0m \u001b[0mtenants\u001b[0m\u001b[0;34m[\u001b[0m\u001b[0;36m800\u001b[0m\u001b[0;34m:\u001b[0m\u001b[0;34m]\u001b[0m\u001b[0;34m\u001b[0m\u001b[0m\n\u001b[1;32m    106\u001b[0m \u001b[0;34m\u001b[0m\u001b[0m\n",
      "\u001b[0;32m~/diploma_code/sending/data_loader.py\u001b[0m in \u001b[0;36mfrom_directory\u001b[0;34m(directory)\u001b[0m\n\u001b[1;32m    136\u001b[0m     \u001b[0me\u001b[0m \u001b[0;34m=\u001b[0m \u001b[0mEvaluator_base\u001b[0m\u001b[0;34m(\u001b[0m\u001b[0;34m)\u001b[0m\u001b[0;34m\u001b[0m\u001b[0m\n\u001b[1;32m    137\u001b[0m     \u001b[0;32mfor\u001b[0m \u001b[0mtenant\u001b[0m \u001b[0;32min\u001b[0m \u001b[0mtenants\u001b[0m\u001b[0;34m:\u001b[0m\u001b[0;34m\u001b[0m\u001b[0m\n\u001b[0;32m--> 138\u001b[0;31m         \u001b[0mtenant\u001b[0m\u001b[0;34m.\u001b[0m\u001b[0mevaluation\u001b[0m \u001b[0;34m=\u001b[0m \u001b[0me\u001b[0m\u001b[0;34m.\u001b[0m\u001b[0mget_tenant_evaluation\u001b[0m\u001b[0;34m(\u001b[0m\u001b[0mtenant\u001b[0m\u001b[0;34m)\u001b[0m\u001b[0;34m\u001b[0m\u001b[0m\n\u001b[0m\u001b[1;32m    139\u001b[0m \u001b[0;34m\u001b[0m\u001b[0m\n\u001b[1;32m    140\u001b[0m     \u001b[0;32mreturn\u001b[0m \u001b[0mdcs\u001b[0m\u001b[0;34m,\u001b[0m \u001b[0mtenants\u001b[0m\u001b[0;34m\u001b[0m\u001b[0m\n",
      "\u001b[0;32m~/diploma_code/sending/evaluators.py\u001b[0m in \u001b[0;36mget_tenant_evaluation\u001b[0;34m(self, tenant)\u001b[0m\n\u001b[1;32m     11\u001b[0m \u001b[0;34m\u001b[0m\u001b[0m\n\u001b[1;32m     12\u001b[0m     \u001b[0;32mdef\u001b[0m \u001b[0mget_tenant_evaluation\u001b[0m\u001b[0;34m(\u001b[0m\u001b[0mself\u001b[0m\u001b[0;34m,\u001b[0m \u001b[0mtenant\u001b[0m\u001b[0;34m)\u001b[0m\u001b[0;34m:\u001b[0m\u001b[0;34m\u001b[0m\u001b[0m\n\u001b[0;32m---> 13\u001b[0;31m         \u001b[0;32mreturn\u001b[0m \u001b[0mself\u001b[0m\u001b[0;34m.\u001b[0m\u001b[0mget_tenant_dict_from_tenant_bs\u001b[0m\u001b[0;34m(\u001b[0m\u001b[0mtenant\u001b[0m\u001b[0;34m.\u001b[0m\u001b[0mbs\u001b[0m\u001b[0;34m)\u001b[0m\u001b[0;34m\u001b[0m\u001b[0m\n\u001b[0m\u001b[1;32m     14\u001b[0m \u001b[0;34m\u001b[0m\u001b[0m\n\u001b[1;32m     15\u001b[0m     \u001b[0;32mdef\u001b[0m \u001b[0mget_vms_from_tenant_bs\u001b[0m\u001b[0;34m(\u001b[0m\u001b[0mself\u001b[0m\u001b[0;34m,\u001b[0m \u001b[0mbs\u001b[0m\u001b[0;34m)\u001b[0m\u001b[0;34m:\u001b[0m\u001b[0;34m\u001b[0m\u001b[0m\n",
      "\u001b[0;32m~/diploma_code/sending/evaluators.py\u001b[0m in \u001b[0;36mget_tenant_dict_from_tenant_bs\u001b[0;34m(self, bs)\u001b[0m\n\u001b[1;32m     37\u001b[0m \u001b[0;34m\u001b[0m\u001b[0m\n\u001b[1;32m     38\u001b[0m     \u001b[0;32mdef\u001b[0m \u001b[0mget_tenant_dict_from_tenant_bs\u001b[0m\u001b[0;34m(\u001b[0m\u001b[0mself\u001b[0m\u001b[0;34m,\u001b[0m \u001b[0mbs\u001b[0m\u001b[0;34m)\u001b[0m\u001b[0;34m:\u001b[0m\u001b[0;34m\u001b[0m\u001b[0m\n\u001b[0;32m---> 39\u001b[0;31m         \u001b[0mvms\u001b[0m \u001b[0;34m=\u001b[0m \u001b[0mself\u001b[0m\u001b[0;34m.\u001b[0m\u001b[0mget_vms_from_tenant_bs\u001b[0m\u001b[0;34m(\u001b[0m\u001b[0mbs\u001b[0m\u001b[0;34m)\u001b[0m\u001b[0;34m\u001b[0m\u001b[0m\n\u001b[0m\u001b[1;32m     40\u001b[0m         \u001b[0msts\u001b[0m \u001b[0;34m=\u001b[0m \u001b[0mself\u001b[0m\u001b[0;34m.\u001b[0m\u001b[0mget_sts_from_tenant_bs\u001b[0m\u001b[0;34m(\u001b[0m\u001b[0mbs\u001b[0m\u001b[0;34m)\u001b[0m\u001b[0;34m\u001b[0m\u001b[0m\n\u001b[1;32m     41\u001b[0m \u001b[0;34m\u001b[0m\u001b[0m\n",
      "\u001b[0;32m~/diploma_code/sending/evaluators.py\u001b[0m in \u001b[0;36mget_vms_from_tenant_bs\u001b[0;34m(self, bs)\u001b[0m\n\u001b[1;32m     18\u001b[0m             \u001b[0mbs_params\u001b[0m \u001b[0;34m=\u001b[0m \u001b[0mvm\u001b[0m\u001b[0;34m.\u001b[0m\u001b[0mfind\u001b[0m\u001b[0;34m(\u001b[0m\u001b[0;34m\"parameter_set\"\u001b[0m\u001b[0;34m)\u001b[0m\u001b[0;34m\u001b[0m\u001b[0m\n\u001b[1;32m     19\u001b[0m             \u001b[0mvm_cpu\u001b[0m \u001b[0;34m=\u001b[0m \u001b[0mbs_params\u001b[0m\u001b[0;34m.\u001b[0m\u001b[0mfind\u001b[0m\u001b[0;34m(\u001b[0m\u001b[0;34m\"parameter\"\u001b[0m\u001b[0;34m,\u001b[0m \u001b[0;34m{\u001b[0m\u001b[0;34m\"parameter_name\"\u001b[0m\u001b[0;34m:\u001b[0m \u001b[0;34m\"VCPUs\"\u001b[0m\u001b[0;34m}\u001b[0m\u001b[0;34m)\u001b[0m\u001b[0;34m\u001b[0m\u001b[0m\n\u001b[0;32m---> 20\u001b[0;31m             \u001b[0mvm_ram\u001b[0m \u001b[0;34m=\u001b[0m \u001b[0mbs_params\u001b[0m\u001b[0;34m.\u001b[0m\u001b[0mfind\u001b[0m\u001b[0;34m(\u001b[0m\u001b[0;34m\"parameter\"\u001b[0m\u001b[0;34m,\u001b[0m \u001b[0;34m{\u001b[0m\u001b[0;34m\"parameter_name\"\u001b[0m\u001b[0;34m:\u001b[0m \u001b[0;34m\"RAM\"\u001b[0m\u001b[0;34m}\u001b[0m\u001b[0;34m)\u001b[0m\u001b[0;34m\u001b[0m\u001b[0m\n\u001b[0m\u001b[1;32m     21\u001b[0m             vms.append({\n\u001b[1;32m     22\u001b[0m                 \u001b[0;34m\"RAM\"\u001b[0m\u001b[0;34m:\u001b[0m \u001b[0mint\u001b[0m\u001b[0;34m(\u001b[0m\u001b[0mvm_ram\u001b[0m\u001b[0;34m[\u001b[0m\u001b[0;34m\"parameter_value\"\u001b[0m\u001b[0;34m]\u001b[0m\u001b[0;34m)\u001b[0m\u001b[0;34m,\u001b[0m\u001b[0;34m\u001b[0m\u001b[0m\n",
      "\u001b[0;32m~/anaconda3/lib/python3.5/site-packages/bs4/element.py\u001b[0m in \u001b[0;36mfind\u001b[0;34m(self, name, attrs, recursive, text, **kwargs)\u001b[0m\n\u001b[1;32m   1353\u001b[0m         criteria.\"\"\"\n\u001b[1;32m   1354\u001b[0m         \u001b[0mr\u001b[0m \u001b[0;34m=\u001b[0m \u001b[0;32mNone\u001b[0m\u001b[0;34m\u001b[0m\u001b[0m\n\u001b[0;32m-> 1355\u001b[0;31m         \u001b[0ml\u001b[0m \u001b[0;34m=\u001b[0m \u001b[0mself\u001b[0m\u001b[0;34m.\u001b[0m\u001b[0mfind_all\u001b[0m\u001b[0;34m(\u001b[0m\u001b[0mname\u001b[0m\u001b[0;34m,\u001b[0m \u001b[0mattrs\u001b[0m\u001b[0;34m,\u001b[0m \u001b[0mrecursive\u001b[0m\u001b[0;34m,\u001b[0m \u001b[0mtext\u001b[0m\u001b[0;34m,\u001b[0m \u001b[0;36m1\u001b[0m\u001b[0;34m,\u001b[0m \u001b[0;34m**\u001b[0m\u001b[0mkwargs\u001b[0m\u001b[0;34m)\u001b[0m\u001b[0;34m\u001b[0m\u001b[0m\n\u001b[0m\u001b[1;32m   1356\u001b[0m         \u001b[0;32mif\u001b[0m \u001b[0ml\u001b[0m\u001b[0;34m:\u001b[0m\u001b[0;34m\u001b[0m\u001b[0m\n\u001b[1;32m   1357\u001b[0m             \u001b[0mr\u001b[0m \u001b[0;34m=\u001b[0m \u001b[0ml\u001b[0m\u001b[0;34m[\u001b[0m\u001b[0;36m0\u001b[0m\u001b[0;34m]\u001b[0m\u001b[0;34m\u001b[0m\u001b[0m\n",
      "\u001b[0;32m~/anaconda3/lib/python3.5/site-packages/bs4/element.py\u001b[0m in \u001b[0;36mfind_all\u001b[0;34m(self, name, attrs, recursive, text, limit, **kwargs)\u001b[0m\n\u001b[1;32m   1374\u001b[0m         \u001b[0;32mif\u001b[0m \u001b[0;32mnot\u001b[0m \u001b[0mrecursive\u001b[0m\u001b[0;34m:\u001b[0m\u001b[0;34m\u001b[0m\u001b[0m\n\u001b[1;32m   1375\u001b[0m             \u001b[0mgenerator\u001b[0m \u001b[0;34m=\u001b[0m \u001b[0mself\u001b[0m\u001b[0;34m.\u001b[0m\u001b[0mchildren\u001b[0m\u001b[0;34m\u001b[0m\u001b[0m\n\u001b[0;32m-> 1376\u001b[0;31m         \u001b[0;32mreturn\u001b[0m \u001b[0mself\u001b[0m\u001b[0;34m.\u001b[0m\u001b[0m_find_all\u001b[0m\u001b[0;34m(\u001b[0m\u001b[0mname\u001b[0m\u001b[0;34m,\u001b[0m \u001b[0mattrs\u001b[0m\u001b[0;34m,\u001b[0m \u001b[0mtext\u001b[0m\u001b[0;34m,\u001b[0m \u001b[0mlimit\u001b[0m\u001b[0;34m,\u001b[0m \u001b[0mgenerator\u001b[0m\u001b[0;34m,\u001b[0m \u001b[0;34m**\u001b[0m\u001b[0mkwargs\u001b[0m\u001b[0;34m)\u001b[0m\u001b[0;34m\u001b[0m\u001b[0m\n\u001b[0m\u001b[1;32m   1377\u001b[0m     \u001b[0mfindAll\u001b[0m \u001b[0;34m=\u001b[0m \u001b[0mfind_all\u001b[0m       \u001b[0;31m# BS3\u001b[0m\u001b[0;34m\u001b[0m\u001b[0m\n\u001b[1;32m   1378\u001b[0m     \u001b[0mfindChildren\u001b[0m \u001b[0;34m=\u001b[0m \u001b[0mfind_all\u001b[0m  \u001b[0;31m# BS2\u001b[0m\u001b[0;34m\u001b[0m\u001b[0m\n",
      "\u001b[0;32m~/anaconda3/lib/python3.5/site-packages/bs4/element.py\u001b[0m in \u001b[0;36m_find_all\u001b[0;34m(self, name, attrs, text, limit, generator, **kwargs)\u001b[0m\n\u001b[1;32m    610\u001b[0m         \u001b[0;32mwhile\u001b[0m \u001b[0;32mTrue\u001b[0m\u001b[0;34m:\u001b[0m\u001b[0;34m\u001b[0m\u001b[0m\n\u001b[1;32m    611\u001b[0m             \u001b[0;32mtry\u001b[0m\u001b[0;34m:\u001b[0m\u001b[0;34m\u001b[0m\u001b[0m\n\u001b[0;32m--> 612\u001b[0;31m                 \u001b[0mi\u001b[0m \u001b[0;34m=\u001b[0m \u001b[0mnext\u001b[0m\u001b[0;34m(\u001b[0m\u001b[0mgenerator\u001b[0m\u001b[0;34m)\u001b[0m\u001b[0;34m\u001b[0m\u001b[0m\n\u001b[0m\u001b[1;32m    613\u001b[0m             \u001b[0;32mexcept\u001b[0m \u001b[0mStopIteration\u001b[0m\u001b[0;34m:\u001b[0m\u001b[0;34m\u001b[0m\u001b[0m\n\u001b[1;32m    614\u001b[0m                 \u001b[0;32mbreak\u001b[0m\u001b[0;34m\u001b[0m\u001b[0m\n",
      "\u001b[0;31mKeyboardInterrupt\u001b[0m: "
     ]
    }
   ],
   "source": [
    "# %time experiment_run(\"9_algo\", \"dcs_800\", \"800_1000\", 200, \"detailed\", \"tenant_random\", \"dc_random\")\n",
    "%time empty_experiment_run(\"9_algo\", \"detailed\", \"tenant_random\", \"dc_emptiest\")"
   ]
  },
  {
   "cell_type": "code",
   "execution_count": 3,
   "metadata": {},
   "outputs": [
    {
     "name": "stdout",
     "output_type": "stream",
     "text": [
      "dcs proposing taking away: 1\n",
      "ACCEPTED\n",
      "recursive search for 1 tenants\n",
      "dcs proposing taking away: 1\n",
      "ACCEPTED\n",
      "recursive search for 2 tenants\n",
      "dcs proposing taking away: 1\n",
      "ACCEPTED\n",
      "recursive search for 4 tenants\n",
      "smth was deleted, new len is 0\n",
      "CPU times: user 23.2 s, sys: 765 ms, total: 24 s\n",
      "Wall time: 45.7 s\n"
     ]
    }
   ],
   "source": [
    "%time experiment_run(\"9_algo\", \"dcs_800\", \"800_1000\", 800, 200, \"detailed\", \"tenant_heaviest\", \"dc_emptiest\")"
   ]
  },
  {
   "cell_type": "code",
   "execution_count": 4,
   "metadata": {},
   "outputs": [
    {
     "name": "stdout",
     "output_type": "stream",
     "text": [
      "dcs proposing taking away: 1\n",
      "ACCEPTED\n",
      "recursive search for 2 tenants\n",
      "CPU times: user 24.4 s, sys: 516 ms, total: 25 s\n",
      "Wall time: 35.8 s\n"
     ]
    }
   ],
   "source": [
    "%time experiment_run(\"9_algo\", \"dcs_800\", \"800_1000\", 800, 200, \"detailed\", \"tenant_heaviest\", \"dc_random\")"
   ]
  },
  {
   "cell_type": "markdown",
   "metadata": {},
   "source": [
    "## With return"
   ]
  },
  {
   "cell_type": "code",
   "execution_count": 2,
   "metadata": {},
   "outputs": [],
   "source": [
    "from data_loader import with_return\n",
    "dom_dcs, dom_tens = with_return()\n",
    "e = Evaluator_sum()"
   ]
  },
  {
   "cell_type": "code",
   "execution_count": 3,
   "metadata": {},
   "outputs": [
    {
     "data": {
      "text/plain": [
       "[{'sts': [{'assignedTo': 'controller1', 'size': 1}],\n",
       "  'vms': [{'RAM': 1, 'VCPUs': 1, 'assignedTo': 'computer1'}]},\n",
       " {'sts': [{'assignedTo': None, 'size': 500}],\n",
       "  'vms': [{'RAM': 15, 'VCPUs': 10, 'assignedTo': None}]}]"
      ]
     },
     "execution_count": 3,
     "metadata": {},
     "output_type": "execute_result"
    }
   ],
   "source": [
    "for ten in dom_tens:\n",
    "    ten.evaluation = e.get_tenant_evaluation(ten)\n",
    "[x.evaluation for x in dom_tens]"
   ]
  },
  {
   "cell_type": "code",
   "execution_count": 4,
   "metadata": {},
   "outputs": [
    {
     "data": {
      "text/plain": [
       "[{'RAM': 19, 'VCPUs': 10, 'storage': 999},\n",
       " {'RAM': 20, 'VCPUs': 10, 'storage': 1000}]"
      ]
     },
     "execution_count": 4,
     "metadata": {},
     "output_type": "execute_result"
    }
   ],
   "source": [
    "for dc in dom_dcs:\n",
    "    dc.evaluation = e.get_dc_evaluation(dc)\n",
    "[dc.evaluation for dc in dom_dcs]\n",
    "# [e.get_empty_dc_evaluation(dc) for dc in dom_dcs]"
   ]
  },
  {
   "cell_type": "code",
   "execution_count": 5,
   "metadata": {},
   "outputs": [
    {
     "data": {
      "text/plain": [
       "[{'RAM': 19, 'VCPUs': 10, 'storage': 999},\n",
       " {'RAM': 20, 'VCPUs': 10, 'storage': 1000}]"
      ]
     },
     "execution_count": 5,
     "metadata": {},
     "output_type": "execute_result"
    }
   ],
   "source": [
    "[x.evaluation for x in get_dcs_utilized(dom_tens[1], dom_dcs)]"
   ]
  },
  {
   "cell_type": "code",
   "execution_count": 6,
   "metadata": {},
   "outputs": [
    {
     "name": "stdout",
     "output_type": "stream",
     "text": [
      "dcs proposing taking away: 1\n",
      "recursive search for 1 tenants\n"
     ]
    },
    {
     "data": {
      "text/plain": [
       "[({'placed': 2, 'total': 2, 'vals': [('fst', 1), ('snd', 1)]},\n",
       "  {'avg': 0.5238095238095238,\n",
       "   'max': 0.9090909090909091,\n",
       "   'vals': [0.9090909090909091, 0.1]},\n",
       "  [0.006498813629150391, None],\n",
       "  0.31920552253723145)]"
      ]
     },
     "execution_count": 6,
     "metadata": {},
     "output_type": "execute_result"
    }
   ],
   "source": [
    "dom_benchmarks, dom_res = main_algo(1, 1, dom_dcs, dom_tens, Evaluator_sum(), get_tenants_heaviest, get_dcs_utilized)\n",
    "dom_benchmarks"
   ]
  },
  {
   "cell_type": "code",
   "execution_count": 7,
   "metadata": {},
   "outputs": [
    {
     "data": {
      "text/plain": [
       "['snd', 'fst']"
      ]
     },
     "execution_count": 7,
     "metadata": {},
     "output_type": "execute_result"
    }
   ],
   "source": [
    "[x.mark for x in dom_tens]"
   ]
  },
  {
   "cell_type": "code",
   "execution_count": 32,
   "metadata": {},
   "outputs": [
    {
     "data": {
      "text/plain": [
       "[{'RAM': 0, 'VCPUs': 0, 'storage': 0},\n",
       " {'RAM': 10, 'VCPUs': 10, 'storage': 0},\n",
       " {'RAM': 0, 'VCPUs': 0, 'storage': 0}]"
      ]
     },
     "execution_count": 32,
     "metadata": {},
     "output_type": "execute_result"
    }
   ],
   "source": [
    "[dc.evaluation for dc in dom_dcs]"
   ]
  },
  {
   "cell_type": "code",
   "execution_count": 3,
   "metadata": {},
   "outputs": [],
   "source": [
    "dcs, tenants = from_directory(\"examples/dcs_800/\")\n",
    "e = Evaluator_sum()"
   ]
  },
  {
   "cell_type": "code",
   "execution_count": 4,
   "metadata": {},
   "outputs": [
    {
     "data": {
      "text/plain": [
       "711"
      ]
     },
     "execution_count": 4,
     "metadata": {},
     "output_type": "execute_result"
    }
   ],
   "source": [
    "len([x for x in tenants[:800] if x.mark is not None])"
   ]
  },
  {
   "cell_type": "code",
   "execution_count": 5,
   "metadata": {},
   "outputs": [
    {
     "name": "stderr",
     "output_type": "stream",
     "text": [
      "Process ForkPoolWorker-1:\n",
      "Process ForkPoolWorker-4:\n",
      "Process ForkPoolWorker-5:\n",
      "Process ForkPoolWorker-7:\n",
      "Process ForkPoolWorker-2:\n",
      "Process ForkPoolWorker-8:\n",
      "Process ForkPoolWorker-3:\n",
      "Traceback (most recent call last):\n",
      "Traceback (most recent call last):\n",
      "Process ForkPoolWorker-6:\n",
      "Traceback (most recent call last):\n",
      "  File \"/home/vasilesk/anaconda3/lib/python3.5/multiprocessing/process.py\", line 252, in _bootstrap\n",
      "    self.run()\n",
      "Traceback (most recent call last):\n",
      "  File \"/home/vasilesk/anaconda3/lib/python3.5/multiprocessing/process.py\", line 252, in _bootstrap\n",
      "    self.run()\n",
      "Traceback (most recent call last):\n",
      "Traceback (most recent call last):\n",
      "  File \"/home/vasilesk/anaconda3/lib/python3.5/multiprocessing/process.py\", line 252, in _bootstrap\n",
      "    self.run()\n",
      "  File \"/home/vasilesk/anaconda3/lib/python3.5/multiprocessing/process.py\", line 93, in run\n",
      "    self._target(*self._args, **self._kwargs)\n",
      "  File \"/home/vasilesk/anaconda3/lib/python3.5/multiprocessing/process.py\", line 252, in _bootstrap\n",
      "    self.run()\n",
      "Traceback (most recent call last):\n",
      "  File \"/home/vasilesk/anaconda3/lib/python3.5/multiprocessing/process.py\", line 93, in run\n",
      "    self._target(*self._args, **self._kwargs)\n",
      "  File \"/home/vasilesk/anaconda3/lib/python3.5/multiprocessing/process.py\", line 93, in run\n",
      "    self._target(*self._args, **self._kwargs)\n",
      "  File \"/home/vasilesk/anaconda3/lib/python3.5/multiprocessing/pool.py\", line 119, in worker\n",
      "    result = (True, func(*args, **kwds))\n",
      "  File \"/home/vasilesk/anaconda3/lib/python3.5/multiprocessing/process.py\", line 252, in _bootstrap\n",
      "    self.run()\n",
      "  File \"/home/vasilesk/anaconda3/lib/python3.5/multiprocessing/pool.py\", line 119, in worker\n",
      "    result = (True, func(*args, **kwds))\n",
      "  File \"/home/vasilesk/anaconda3/lib/python3.5/multiprocessing/process.py\", line 252, in _bootstrap\n",
      "    self.run()\n",
      "  File \"/home/vasilesk/anaconda3/lib/python3.5/multiprocessing/process.py\", line 93, in run\n",
      "    self._target(*self._args, **self._kwargs)\n",
      "  File \"/home/vasilesk/anaconda3/lib/python3.5/multiprocessing/process.py\", line 93, in run\n",
      "    self._target(*self._args, **self._kwargs)\n",
      "  File \"/home/vasilesk/anaconda3/lib/python3.5/multiprocessing/pool.py\", line 119, in worker\n",
      "    result = (True, func(*args, **kwds))\n",
      "  File \"/home/vasilesk/anaconda3/lib/python3.5/multiprocessing/pool.py\", line 44, in mapstar\n",
      "    return list(map(*args))\n",
      "  File \"/home/vasilesk/anaconda3/lib/python3.5/multiprocessing/pool.py\", line 119, in worker\n",
      "    result = (True, func(*args, **kwds))\n",
      "  File \"/home/vasilesk/anaconda3/lib/python3.5/multiprocessing/process.py\", line 93, in run\n",
      "    self._target(*self._args, **self._kwargs)\n",
      "  File \"/home/vasilesk/anaconda3/lib/python3.5/multiprocessing/pool.py\", line 44, in mapstar\n",
      "    return list(map(*args))\n",
      "  File \"/home/vasilesk/anaconda3/lib/python3.5/multiprocessing/pool.py\", line 119, in worker\n",
      "    result = (True, func(*args, **kwds))\n",
      "  File \"/home/vasilesk/anaconda3/lib/python3.5/multiprocessing/pool.py\", line 44, in mapstar\n",
      "    return list(map(*args))\n",
      "  File \"/home/vasilesk/diploma_code/sending/algo.py\", line 28, in scheduler_exec\n",
      "    call(call_data, stdout=f_prog, stderr=f_prog)\n",
      "  File \"/home/vasilesk/anaconda3/lib/python3.5/multiprocessing/pool.py\", line 44, in mapstar\n",
      "    return list(map(*args))\n",
      "  File \"/home/vasilesk/anaconda3/lib/python3.5/multiprocessing/pool.py\", line 119, in worker\n",
      "    result = (True, func(*args, **kwds))\n",
      "  File \"/home/vasilesk/anaconda3/lib/python3.5/subprocess.py\", line 249, in call\n",
      "    return p.wait(timeout=timeout)\n",
      "  File \"/home/vasilesk/anaconda3/lib/python3.5/multiprocessing/pool.py\", line 44, in mapstar\n",
      "    return list(map(*args))\n",
      "  File \"/home/vasilesk/diploma_code/sending/algo.py\", line 28, in scheduler_exec\n",
      "    call(call_data, stdout=f_prog, stderr=f_prog)\n",
      "  File \"/home/vasilesk/anaconda3/lib/python3.5/multiprocessing/pool.py\", line 44, in mapstar\n",
      "    return list(map(*args))\n",
      "  File \"/home/vasilesk/diploma_code/sending/algo.py\", line 28, in scheduler_exec\n",
      "    call(call_data, stdout=f_prog, stderr=f_prog)\n",
      "  File \"/home/vasilesk/anaconda3/lib/python3.5/subprocess.py\", line 249, in call\n",
      "    return p.wait(timeout=timeout)\n",
      "  File \"/home/vasilesk/anaconda3/lib/python3.5/subprocess.py\", line 1399, in wait\n",
      "    (pid, sts) = self._try_wait(0)\n",
      "  File \"/home/vasilesk/diploma_code/sending/algo.py\", line 28, in scheduler_exec\n",
      "    call(call_data, stdout=f_prog, stderr=f_prog)\n",
      "  File \"/home/vasilesk/anaconda3/lib/python3.5/subprocess.py\", line 249, in call\n",
      "    return p.wait(timeout=timeout)\n",
      "  File \"/home/vasilesk/anaconda3/lib/python3.5/subprocess.py\", line 1399, in wait\n",
      "    (pid, sts) = self._try_wait(0)\n",
      "  File \"/home/vasilesk/anaconda3/lib/python3.5/subprocess.py\", line 1349, in _try_wait\n",
      "    (pid, sts) = os.waitpid(self.pid, wait_flags)\n",
      "  File \"/home/vasilesk/anaconda3/lib/python3.5/subprocess.py\", line 249, in call\n",
      "    return p.wait(timeout=timeout)\n",
      "  File \"/home/vasilesk/anaconda3/lib/python3.5/subprocess.py\", line 1349, in _try_wait\n",
      "    (pid, sts) = os.waitpid(self.pid, wait_flags)\n",
      "KeyboardInterrupt\n",
      "  File \"/home/vasilesk/anaconda3/lib/python3.5/subprocess.py\", line 1399, in wait\n",
      "    (pid, sts) = self._try_wait(0)\n",
      "KeyboardInterrupt\n",
      "  File \"/home/vasilesk/anaconda3/lib/python3.5/subprocess.py\", line 1399, in wait\n",
      "    (pid, sts) = self._try_wait(0)\n",
      "  File \"/home/vasilesk/diploma_code/sending/algo.py\", line 28, in scheduler_exec\n",
      "    call(call_data, stdout=f_prog, stderr=f_prog)\n",
      "  File \"/home/vasilesk/anaconda3/lib/python3.5/subprocess.py\", line 1349, in _try_wait\n",
      "    (pid, sts) = os.waitpid(self.pid, wait_flags)\n",
      "  File \"/home/vasilesk/anaconda3/lib/python3.5/subprocess.py\", line 249, in call\n",
      "    return p.wait(timeout=timeout)\n",
      "  File \"/home/vasilesk/anaconda3/lib/python3.5/subprocess.py\", line 1349, in _try_wait\n",
      "    (pid, sts) = os.waitpid(self.pid, wait_flags)\n",
      "Traceback (most recent call last):\n",
      "KeyboardInterrupt\n",
      "  File \"/home/vasilesk/anaconda3/lib/python3.5/multiprocessing/process.py\", line 252, in _bootstrap\n",
      "    self.run()\n",
      "  File \"/home/vasilesk/diploma_code/sending/algo.py\", line 28, in scheduler_exec\n",
      "    call(call_data, stdout=f_prog, stderr=f_prog)\n",
      "  File \"/home/vasilesk/anaconda3/lib/python3.5/multiprocessing/process.py\", line 93, in run\n",
      "    self._target(*self._args, **self._kwargs)\n",
      "  File \"/home/vasilesk/anaconda3/lib/python3.5/multiprocessing/process.py\", line 252, in _bootstrap\n",
      "    self.run()\n",
      "KeyboardInterrupt\n",
      "  File \"/home/vasilesk/anaconda3/lib/python3.5/multiprocessing/pool.py\", line 119, in worker\n",
      "    result = (True, func(*args, **kwds))\n",
      "  File \"/home/vasilesk/anaconda3/lib/python3.5/multiprocessing/process.py\", line 93, in run\n",
      "    self._target(*self._args, **self._kwargs)\n",
      "  File \"/home/vasilesk/anaconda3/lib/python3.5/multiprocessing/pool.py\", line 119, in worker\n",
      "    result = (True, func(*args, **kwds))\n",
      "  File \"/home/vasilesk/anaconda3/lib/python3.5/multiprocessing/pool.py\", line 44, in mapstar\n",
      "    return list(map(*args))\n",
      "  File \"/home/vasilesk/diploma_code/sending/algo.py\", line 28, in scheduler_exec\n",
      "    call(call_data, stdout=f_prog, stderr=f_prog)\n",
      "  File \"/home/vasilesk/anaconda3/lib/python3.5/subprocess.py\", line 249, in call\n",
      "    return p.wait(timeout=timeout)\n",
      "  File \"/home/vasilesk/anaconda3/lib/python3.5/subprocess.py\", line 1399, in wait\n",
      "    (pid, sts) = self._try_wait(0)\n",
      "  File \"/home/vasilesk/anaconda3/lib/python3.5/subprocess.py\", line 1349, in _try_wait\n",
      "    (pid, sts) = os.waitpid(self.pid, wait_flags)\n",
      "  File \"/home/vasilesk/anaconda3/lib/python3.5/subprocess.py\", line 249, in call\n",
      "    return p.wait(timeout=timeout)\n",
      "  File \"/home/vasilesk/anaconda3/lib/python3.5/subprocess.py\", line 1399, in wait\n",
      "    (pid, sts) = self._try_wait(0)\n",
      "  File \"/home/vasilesk/anaconda3/lib/python3.5/multiprocessing/pool.py\", line 44, in mapstar\n",
      "    return list(map(*args))\n",
      "  File \"/home/vasilesk/diploma_code/sending/algo.py\", line 28, in scheduler_exec\n",
      "    call(call_data, stdout=f_prog, stderr=f_prog)\n",
      "  File \"/home/vasilesk/anaconda3/lib/python3.5/subprocess.py\", line 1349, in _try_wait\n",
      "    (pid, sts) = os.waitpid(self.pid, wait_flags)\n",
      "  File \"/home/vasilesk/anaconda3/lib/python3.5/subprocess.py\", line 249, in call\n",
      "    return p.wait(timeout=timeout)\n",
      "KeyboardInterrupt\n",
      "  File \"/home/vasilesk/anaconda3/lib/python3.5/subprocess.py\", line 1399, in wait\n",
      "    (pid, sts) = self._try_wait(0)\n"
     ]
    },
    {
     "name": "stderr",
     "output_type": "stream",
     "text": [
      "  File \"/home/vasilesk/anaconda3/lib/python3.5/subprocess.py\", line 1399, in wait\n",
      "    (pid, sts) = self._try_wait(0)\n",
      "  File \"/home/vasilesk/anaconda3/lib/python3.5/subprocess.py\", line 1349, in _try_wait\n",
      "    (pid, sts) = os.waitpid(self.pid, wait_flags)\n",
      "KeyboardInterrupt\n",
      "KeyboardInterrupt\n",
      "  File \"/home/vasilesk/anaconda3/lib/python3.5/subprocess.py\", line 1349, in _try_wait\n",
      "    (pid, sts) = os.waitpid(self.pid, wait_flags)\n",
      "KeyboardInterrupt\n"
     ]
    },
    {
     "ename": "KeyboardInterrupt",
     "evalue": "",
     "output_type": "error",
     "traceback": [
      "\u001b[0;31m---------------------------------------------------------------------------\u001b[0m",
      "\u001b[0;31mKeyboardInterrupt\u001b[0m                         Traceback (most recent call last)",
      "\u001b[0;32m<timed exec>\u001b[0m in \u001b[0;36m<module>\u001b[0;34m()\u001b[0m\n",
      "\u001b[0;32m~/diploma_code/sending/algo.py\u001b[0m in \u001b[0;36mmain_algo\u001b[0;34m(iter_max, dcs_per_tenant, dcs, tenants, e, strategy_choose_tenant, strategy_choose_dc)\u001b[0m\n\u001b[1;32m     83\u001b[0m             \u001b[0mstrategy_choose_dc\u001b[0m\u001b[0;34m,\u001b[0m\u001b[0;34m\u001b[0m\u001b[0m\n\u001b[1;32m     84\u001b[0m             \u001b[0mdict_dcs\u001b[0m\u001b[0;34m,\u001b[0m\u001b[0;34m\u001b[0m\u001b[0m\n\u001b[0;32m---> 85\u001b[0;31m             \u001b[0mdict_tenants\u001b[0m\u001b[0;34m\u001b[0m\u001b[0m\n\u001b[0m\u001b[1;32m     86\u001b[0m         )\n\u001b[1;32m     87\u001b[0m \u001b[0;34m\u001b[0m\u001b[0m\n",
      "\u001b[0;32m~/diploma_code/sending/algo.py\u001b[0m in \u001b[0;36malgo_step\u001b[0;34m(dcs_per_tenant, dcs, tenants, e, strategy_choose_tenant, strategy_choose_dc, dict_dcs, dict_tenants)\u001b[0m\n\u001b[1;32m    132\u001b[0m     \u001b[0mfilenames_out\u001b[0m \u001b[0;34m=\u001b[0m \u001b[0;34m[\u001b[0m\u001b[0mx\u001b[0m\u001b[0;34m[\u001b[0m\u001b[0;36m1\u001b[0m\u001b[0;34m]\u001b[0m \u001b[0;32mif\u001b[0m \u001b[0mx\u001b[0m \u001b[0;32mis\u001b[0m \u001b[0;32mnot\u001b[0m \u001b[0;32mNone\u001b[0m \u001b[0;32melse\u001b[0m \u001b[0;32mNone\u001b[0m \u001b[0;32mfor\u001b[0m \u001b[0mx\u001b[0m \u001b[0;32min\u001b[0m \u001b[0mexec_input\u001b[0m\u001b[0;34m]\u001b[0m\u001b[0;34m\u001b[0m\u001b[0m\n\u001b[1;32m    133\u001b[0m     \u001b[0;32mwith\u001b[0m \u001b[0mPool\u001b[0m\u001b[0;34m(\u001b[0m\u001b[0;36m8\u001b[0m\u001b[0;34m)\u001b[0m \u001b[0;32mas\u001b[0m \u001b[0mp\u001b[0m\u001b[0;34m:\u001b[0m\u001b[0;34m\u001b[0m\u001b[0m\n\u001b[0;32m--> 134\u001b[0;31m         \u001b[0mtimings\u001b[0m \u001b[0;34m=\u001b[0m \u001b[0mp\u001b[0m\u001b[0;34m.\u001b[0m\u001b[0mmap\u001b[0m\u001b[0;34m(\u001b[0m\u001b[0mscheduler_exec\u001b[0m\u001b[0;34m,\u001b[0m \u001b[0mexec_input\u001b[0m\u001b[0;34m)\u001b[0m\u001b[0;34m\u001b[0m\u001b[0m\n\u001b[0m\u001b[1;32m    135\u001b[0m     \u001b[0;32mfor\u001b[0m \u001b[0mdc\u001b[0m\u001b[0;34m,\u001b[0m \u001b[0mfilename\u001b[0m \u001b[0;32min\u001b[0m \u001b[0mzip\u001b[0m\u001b[0;34m(\u001b[0m\u001b[0mdcs\u001b[0m\u001b[0;34m,\u001b[0m \u001b[0mfilenames_out\u001b[0m\u001b[0;34m)\u001b[0m\u001b[0;34m:\u001b[0m\u001b[0;34m\u001b[0m\u001b[0m\n\u001b[1;32m    136\u001b[0m         \u001b[0mplacements\u001b[0m \u001b[0;34m=\u001b[0m \u001b[0mdc\u001b[0m\u001b[0;34m.\u001b[0m\u001b[0mafter_exec\u001b[0m\u001b[0;34m(\u001b[0m\u001b[0mfilename\u001b[0m\u001b[0;34m)\u001b[0m\u001b[0;34m\u001b[0m\u001b[0m\n",
      "\u001b[0;32m~/anaconda3/lib/python3.5/multiprocessing/pool.py\u001b[0m in \u001b[0;36mmap\u001b[0;34m(self, func, iterable, chunksize)\u001b[0m\n\u001b[1;32m    264\u001b[0m         \u001b[0;32min\u001b[0m \u001b[0ma\u001b[0m \u001b[0mlist\u001b[0m \u001b[0mthat\u001b[0m \u001b[0;32mis\u001b[0m \u001b[0mreturned\u001b[0m\u001b[0;34m.\u001b[0m\u001b[0;34m\u001b[0m\u001b[0m\n\u001b[1;32m    265\u001b[0m         '''\n\u001b[0;32m--> 266\u001b[0;31m         \u001b[0;32mreturn\u001b[0m \u001b[0mself\u001b[0m\u001b[0;34m.\u001b[0m\u001b[0m_map_async\u001b[0m\u001b[0;34m(\u001b[0m\u001b[0mfunc\u001b[0m\u001b[0;34m,\u001b[0m \u001b[0miterable\u001b[0m\u001b[0;34m,\u001b[0m \u001b[0mmapstar\u001b[0m\u001b[0;34m,\u001b[0m \u001b[0mchunksize\u001b[0m\u001b[0;34m)\u001b[0m\u001b[0;34m.\u001b[0m\u001b[0mget\u001b[0m\u001b[0;34m(\u001b[0m\u001b[0;34m)\u001b[0m\u001b[0;34m\u001b[0m\u001b[0m\n\u001b[0m\u001b[1;32m    267\u001b[0m \u001b[0;34m\u001b[0m\u001b[0m\n\u001b[1;32m    268\u001b[0m     \u001b[0;32mdef\u001b[0m \u001b[0mstarmap\u001b[0m\u001b[0;34m(\u001b[0m\u001b[0mself\u001b[0m\u001b[0;34m,\u001b[0m \u001b[0mfunc\u001b[0m\u001b[0;34m,\u001b[0m \u001b[0miterable\u001b[0m\u001b[0;34m,\u001b[0m \u001b[0mchunksize\u001b[0m\u001b[0;34m=\u001b[0m\u001b[0;32mNone\u001b[0m\u001b[0;34m)\u001b[0m\u001b[0;34m:\u001b[0m\u001b[0;34m\u001b[0m\u001b[0m\n",
      "\u001b[0;32m~/anaconda3/lib/python3.5/multiprocessing/pool.py\u001b[0m in \u001b[0;36mget\u001b[0;34m(self, timeout)\u001b[0m\n\u001b[1;32m    636\u001b[0m \u001b[0;34m\u001b[0m\u001b[0m\n\u001b[1;32m    637\u001b[0m     \u001b[0;32mdef\u001b[0m \u001b[0mget\u001b[0m\u001b[0;34m(\u001b[0m\u001b[0mself\u001b[0m\u001b[0;34m,\u001b[0m \u001b[0mtimeout\u001b[0m\u001b[0;34m=\u001b[0m\u001b[0;32mNone\u001b[0m\u001b[0;34m)\u001b[0m\u001b[0;34m:\u001b[0m\u001b[0;34m\u001b[0m\u001b[0m\n\u001b[0;32m--> 638\u001b[0;31m         \u001b[0mself\u001b[0m\u001b[0;34m.\u001b[0m\u001b[0mwait\u001b[0m\u001b[0;34m(\u001b[0m\u001b[0mtimeout\u001b[0m\u001b[0;34m)\u001b[0m\u001b[0;34m\u001b[0m\u001b[0m\n\u001b[0m\u001b[1;32m    639\u001b[0m         \u001b[0;32mif\u001b[0m \u001b[0;32mnot\u001b[0m \u001b[0mself\u001b[0m\u001b[0;34m.\u001b[0m\u001b[0mready\u001b[0m\u001b[0;34m(\u001b[0m\u001b[0;34m)\u001b[0m\u001b[0;34m:\u001b[0m\u001b[0;34m\u001b[0m\u001b[0m\n\u001b[1;32m    640\u001b[0m             \u001b[0;32mraise\u001b[0m \u001b[0mTimeoutError\u001b[0m\u001b[0;34m\u001b[0m\u001b[0m\n",
      "\u001b[0;32m~/anaconda3/lib/python3.5/multiprocessing/pool.py\u001b[0m in \u001b[0;36mwait\u001b[0;34m(self, timeout)\u001b[0m\n\u001b[1;32m    633\u001b[0m \u001b[0;34m\u001b[0m\u001b[0m\n\u001b[1;32m    634\u001b[0m     \u001b[0;32mdef\u001b[0m \u001b[0mwait\u001b[0m\u001b[0;34m(\u001b[0m\u001b[0mself\u001b[0m\u001b[0;34m,\u001b[0m \u001b[0mtimeout\u001b[0m\u001b[0;34m=\u001b[0m\u001b[0;32mNone\u001b[0m\u001b[0;34m)\u001b[0m\u001b[0;34m:\u001b[0m\u001b[0;34m\u001b[0m\u001b[0m\n\u001b[0;32m--> 635\u001b[0;31m         \u001b[0mself\u001b[0m\u001b[0;34m.\u001b[0m\u001b[0m_event\u001b[0m\u001b[0;34m.\u001b[0m\u001b[0mwait\u001b[0m\u001b[0;34m(\u001b[0m\u001b[0mtimeout\u001b[0m\u001b[0;34m)\u001b[0m\u001b[0;34m\u001b[0m\u001b[0m\n\u001b[0m\u001b[1;32m    636\u001b[0m \u001b[0;34m\u001b[0m\u001b[0m\n\u001b[1;32m    637\u001b[0m     \u001b[0;32mdef\u001b[0m \u001b[0mget\u001b[0m\u001b[0;34m(\u001b[0m\u001b[0mself\u001b[0m\u001b[0;34m,\u001b[0m \u001b[0mtimeout\u001b[0m\u001b[0;34m=\u001b[0m\u001b[0;32mNone\u001b[0m\u001b[0;34m)\u001b[0m\u001b[0;34m:\u001b[0m\u001b[0;34m\u001b[0m\u001b[0m\n",
      "\u001b[0;32m~/anaconda3/lib/python3.5/threading.py\u001b[0m in \u001b[0;36mwait\u001b[0;34m(self, timeout)\u001b[0m\n\u001b[1;32m    547\u001b[0m             \u001b[0msignaled\u001b[0m \u001b[0;34m=\u001b[0m \u001b[0mself\u001b[0m\u001b[0;34m.\u001b[0m\u001b[0m_flag\u001b[0m\u001b[0;34m\u001b[0m\u001b[0m\n\u001b[1;32m    548\u001b[0m             \u001b[0;32mif\u001b[0m \u001b[0;32mnot\u001b[0m \u001b[0msignaled\u001b[0m\u001b[0;34m:\u001b[0m\u001b[0;34m\u001b[0m\u001b[0m\n\u001b[0;32m--> 549\u001b[0;31m                 \u001b[0msignaled\u001b[0m \u001b[0;34m=\u001b[0m \u001b[0mself\u001b[0m\u001b[0;34m.\u001b[0m\u001b[0m_cond\u001b[0m\u001b[0;34m.\u001b[0m\u001b[0mwait\u001b[0m\u001b[0;34m(\u001b[0m\u001b[0mtimeout\u001b[0m\u001b[0;34m)\u001b[0m\u001b[0;34m\u001b[0m\u001b[0m\n\u001b[0m\u001b[1;32m    550\u001b[0m             \u001b[0;32mreturn\u001b[0m \u001b[0msignaled\u001b[0m\u001b[0;34m\u001b[0m\u001b[0m\n\u001b[1;32m    551\u001b[0m \u001b[0;34m\u001b[0m\u001b[0m\n",
      "\u001b[0;32m~/anaconda3/lib/python3.5/threading.py\u001b[0m in \u001b[0;36mwait\u001b[0;34m(self, timeout)\u001b[0m\n\u001b[1;32m    291\u001b[0m         \u001b[0;32mtry\u001b[0m\u001b[0;34m:\u001b[0m    \u001b[0;31m# restore state no matter what (e.g., KeyboardInterrupt)\u001b[0m\u001b[0;34m\u001b[0m\u001b[0m\n\u001b[1;32m    292\u001b[0m             \u001b[0;32mif\u001b[0m \u001b[0mtimeout\u001b[0m \u001b[0;32mis\u001b[0m \u001b[0;32mNone\u001b[0m\u001b[0;34m:\u001b[0m\u001b[0;34m\u001b[0m\u001b[0m\n\u001b[0;32m--> 293\u001b[0;31m                 \u001b[0mwaiter\u001b[0m\u001b[0;34m.\u001b[0m\u001b[0macquire\u001b[0m\u001b[0;34m(\u001b[0m\u001b[0;34m)\u001b[0m\u001b[0;34m\u001b[0m\u001b[0m\n\u001b[0m\u001b[1;32m    294\u001b[0m                 \u001b[0mgotit\u001b[0m \u001b[0;34m=\u001b[0m \u001b[0;32mTrue\u001b[0m\u001b[0;34m\u001b[0m\u001b[0m\n\u001b[1;32m    295\u001b[0m             \u001b[0;32melse\u001b[0m\u001b[0;34m:\u001b[0m\u001b[0;34m\u001b[0m\u001b[0m\n",
      "\u001b[0;31mKeyboardInterrupt\u001b[0m: "
     ]
    }
   ],
   "source": [
    "%time benchmarks, res = main_algo(3, 1, dcs, tenants[800:], e, get_tenants_random, get_dcs_random)"
   ]
  },
  {
   "cell_type": "code",
   "execution_count": 13,
   "metadata": {},
   "outputs": [
    {
     "data": {
      "text/plain": [
       "({'placed': 208,\n",
       "  'total': 1464,\n",
       "  'vals': [('1', 15),\n",
       "   ('6', 19),\n",
       "   ('8', 20),\n",
       "   ('2', 24),\n",
       "   ('4', 37),\n",
       "   ('7', 32),\n",
       "   ('5', 20),\n",
       "   ('3', 41)]},\n",
       " {'avg': 0.3918721238533508,\n",
       "  'max': 0.5581731303478165,\n",
       "  'vals': [0.438676967648479,\n",
       "   0.2583972826770663,\n",
       "   0.5581731303478165,\n",
       "   0.32949964429689355,\n",
       "   0.5186312889662172,\n",
       "   0.20194596832626022,\n",
       "   0.3708965023278023,\n",
       "   0.5113167259786476]},\n",
       " [41.65874910354614,\n",
       "  27.18291711807251,\n",
       "  61.99514579772949,\n",
       "  14.552889585494995,\n",
       "  69.46960210800171,\n",
       "  19.166126251220703,\n",
       "  47.01550483703613,\n",
       "  27.61017942428589],\n",
       " 76.63044595718384)"
      ]
     },
     "execution_count": 13,
     "metadata": {},
     "output_type": "execute_result"
    }
   ],
   "source": [
    "benchmarks[-1]"
   ]
  },
  {
   "cell_type": "code",
   "execution_count": null,
   "metadata": {},
   "outputs": [],
   "source": []
  },
  {
   "cell_type": "code",
   "execution_count": null,
   "metadata": {},
   "outputs": [],
   "source": []
  },
  {
   "cell_type": "code",
   "execution_count": null,
   "metadata": {},
   "outputs": [],
   "source": []
  },
  {
   "cell_type": "code",
   "execution_count": null,
   "metadata": {},
   "outputs": [],
   "source": []
  },
  {
   "cell_type": "code",
   "execution_count": null,
   "metadata": {},
   "outputs": [],
   "source": []
  },
  {
   "cell_type": "code",
   "execution_count": null,
   "metadata": {},
   "outputs": [],
   "source": []
  },
  {
   "cell_type": "markdown",
   "metadata": {},
   "source": [
    "## Andrei"
   ]
  },
  {
   "cell_type": "code",
   "execution_count": 9,
   "metadata": {},
   "outputs": [
    {
     "name": "stdout",
     "output_type": "stream",
     "text": [
      "CPU times: user 22 s, sys: 508 ms, total: 22.5 s\n",
      "Wall time: 9min 2s\n"
     ]
    }
   ],
   "source": [
    "%time empty_experiment_run(\"detailed\", \"tenant_random\", \"dc_emptiest\")"
   ]
  },
  {
   "cell_type": "code",
   "execution_count": null,
   "metadata": {},
   "outputs": [],
   "source": []
  },
  {
   "cell_type": "code",
   "execution_count": 8,
   "metadata": {},
   "outputs": [
    {
     "name": "stdout",
     "output_type": "stream",
     "text": [
      "CPU times: user 20.9 s, sys: 768 ms, total: 21.7 s\n",
      "Wall time: 54min 41s\n"
     ]
    }
   ],
   "source": [
    "%time empty_experiment_run(\"detailed\", \"tenant_lightest\", \"dc_utilized\")"
   ]
  },
  {
   "cell_type": "code",
   "execution_count": 7,
   "metadata": {},
   "outputs": [
    {
     "name": "stdout",
     "output_type": "stream",
     "text": [
      "CPU times: user 18.3 s, sys: 498 ms, total: 18.8 s\n",
      "Wall time: 29min 42s\n"
     ]
    }
   ],
   "source": [
    "%time empty_experiment_run(\"detailed\", \"tenant_heaviest\", \"dc_utilized\")"
   ]
  },
  {
   "cell_type": "code",
   "execution_count": 6,
   "metadata": {},
   "outputs": [
    {
     "name": "stdout",
     "output_type": "stream",
     "text": [
      "CPU times: user 18.7 s, sys: 564 ms, total: 19.3 s\n",
      "Wall time: 29min 5s\n"
     ]
    }
   ],
   "source": [
    "%time empty_experiment_run(\"detailed\", \"tenant_random\", \"dc_utilized\")"
   ]
  },
  {
   "cell_type": "code",
   "execution_count": null,
   "metadata": {},
   "outputs": [],
   "source": []
  },
  {
   "cell_type": "code",
   "execution_count": 4,
   "metadata": {},
   "outputs": [
    {
     "name": "stdout",
     "output_type": "stream",
     "text": [
      "CPU times: user 22.2 s, sys: 501 ms, total: 22.7 s\n",
      "Wall time: 12min 10s\n"
     ]
    }
   ],
   "source": [
    "%time empty_experiment_run(\"detailed\", \"tenant_lightest\", \"dc_random\")"
   ]
  },
  {
   "cell_type": "code",
   "execution_count": 3,
   "metadata": {},
   "outputs": [
    {
     "name": "stdout",
     "output_type": "stream",
     "text": [
      "CPU times: user 23.8 s, sys: 513 ms, total: 24.3 s\n",
      "Wall time: 10min 10s\n"
     ]
    }
   ],
   "source": [
    "%time empty_experiment_run(\"detailed\", \"tenant_heaviest\", \"dc_random\")"
   ]
  },
  {
   "cell_type": "code",
   "execution_count": 5,
   "metadata": {},
   "outputs": [
    {
     "name": "stdout",
     "output_type": "stream",
     "text": [
      "CPU times: user 23.4 s, sys: 541 ms, total: 23.9 s\n",
      "Wall time: 8min 12s\n"
     ]
    }
   ],
   "source": [
    "%time empty_experiment_run(\"detailed\", \"tenant_random\", \"dc_random\")"
   ]
  },
  {
   "cell_type": "code",
   "execution_count": null,
   "metadata": {},
   "outputs": [],
   "source": []
  },
  {
   "cell_type": "code",
   "execution_count": 8,
   "metadata": {},
   "outputs": [
    {
     "name": "stdout",
     "output_type": "stream",
     "text": [
      "CPU times: user 18.5 s, sys: 616 ms, total: 19.2 s\n",
      "Wall time: 12min\n"
     ]
    }
   ],
   "source": [
    "%time empty_experiment_run(\"naive\", \"tenant_heaviest\", \"dc_random\")"
   ]
  },
  {
   "cell_type": "code",
   "execution_count": 10,
   "metadata": {},
   "outputs": [
    {
     "name": "stdout",
     "output_type": "stream",
     "text": [
      "CPU times: user 19.6 s, sys: 521 ms, total: 20.1 s\n",
      "Wall time: 10min 35s\n"
     ]
    }
   ],
   "source": [
    "%time empty_experiment_run(\"naive\", \"tenant_lightest\", \"dc_random\")"
   ]
  },
  {
   "cell_type": "code",
   "execution_count": 4,
   "metadata": {},
   "outputs": [
    {
     "name": "stdout",
     "output_type": "stream",
     "text": [
      "CPU times: user 9.7 s, sys: 369 ms, total: 10.1 s\n",
      "Wall time: 7min 50s\n"
     ]
    }
   ],
   "source": [
    "%time empty_experiment_run(\"naive\", \"tenant_random\", \"dc_random\")"
   ]
  },
  {
   "cell_type": "code",
   "execution_count": null,
   "metadata": {},
   "outputs": [],
   "source": []
  },
  {
   "cell_type": "code",
   "execution_count": null,
   "metadata": {},
   "outputs": [],
   "source": []
  },
  {
   "cell_type": "code",
   "execution_count": null,
   "metadata": {},
   "outputs": [],
   "source": []
  },
  {
   "cell_type": "code",
   "execution_count": null,
   "metadata": {},
   "outputs": [],
   "source": []
  },
  {
   "cell_type": "code",
   "execution_count": null,
   "metadata": {},
   "outputs": [],
   "source": []
  },
  {
   "cell_type": "code",
   "execution_count": null,
   "metadata": {},
   "outputs": [],
   "source": []
  },
  {
   "cell_type": "code",
   "execution_count": null,
   "metadata": {},
   "outputs": [],
   "source": [
    "e = Evaluator_naive()\n",
    "dcs, tenants = from_directory(\"examples/dcs_empty_sorted/\")"
   ]
  },
  {
   "cell_type": "code",
   "execution_count": null,
   "metadata": {},
   "outputs": [],
   "source": [
    "tenants1, tenants2 = tenants[:800], tenants[800:]"
   ]
  },
  {
   "cell_type": "code",
   "execution_count": null,
   "metadata": {},
   "outputs": [],
   "source": [
    "%time benchmarks, everything_placed = main_algo(3, 1, dcs, tenants1, e, get_tenants_random, get_dcs_random)"
   ]
  },
  {
   "cell_type": "code",
   "execution_count": null,
   "metadata": {},
   "outputs": [],
   "source": []
  },
  {
   "cell_type": "code",
   "execution_count": 7,
   "metadata": {},
   "outputs": [
    {
     "data": {
      "text/plain": [
       "({'placed': 692,\n",
       "  'total': 800,\n",
       "  'vals': [('7', 56),\n",
       "   ('6', 60),\n",
       "   ('4', 67),\n",
       "   ('3', 135),\n",
       "   ('5', 91),\n",
       "   ('1', 131),\n",
       "   ('2', 49),\n",
       "   ('8', 103)]},\n",
       " {'avg': 0.2864261116021089,\n",
       "  'max': 0.42382486942993663,\n",
       "  'vals': [0.41224046354418153,\n",
       "   0.1617813561454271,\n",
       "   0.42382486942993663,\n",
       "   0.2099834005216979,\n",
       "   0.3634913730607511,\n",
       "   0.16416520028982506,\n",
       "   0.19505789662170228,\n",
       "   0.39629893238434166]},\n",
       " [18.026583433151245,\n",
       "  0.16402935981750488,\n",
       "  60.557613372802734,\n",
       "  2.3819379806518555,\n",
       "  87.01584315299988,\n",
       "  14.575486898422241,\n",
       "  58.04981970787048,\n",
       "  81.42462825775146],\n",
       " 90.08166551589966)"
      ]
     },
     "execution_count": 7,
     "metadata": {},
     "output_type": "execute_result"
    }
   ],
   "source": [
    "benchmarks[-1]"
   ]
  },
  {
   "cell_type": "code",
   "execution_count": null,
   "metadata": {},
   "outputs": [],
   "source": []
  },
  {
   "cell_type": "code",
   "execution_count": null,
   "metadata": {},
   "outputs": [],
   "source": []
  },
  {
   "cell_type": "code",
   "execution_count": 4,
   "metadata": {},
   "outputs": [],
   "source": [
    "e = Evaluator_sum()\n",
    "dcs, tenants = from_directory(\"examples/dcs_empty_sorted/\")"
   ]
  },
  {
   "cell_type": "code",
   "execution_count": 5,
   "metadata": {},
   "outputs": [],
   "source": [
    "tenants1, tenants2 = tenants[:800], tenants[800:]"
   ]
  },
  {
   "cell_type": "code",
   "execution_count": 6,
   "metadata": {},
   "outputs": [
    {
     "name": "stdout",
     "output_type": "stream",
     "text": [
      "CPU times: user 13.9 s, sys: 390 ms, total: 14.3 s\n",
      "Wall time: 18min 4s\n"
     ]
    }
   ],
   "source": [
    "%time benchmarks, everything_placed = main_algo(3, 1, dcs, tenants1, e, get_tenants_random, get_dcs_emptiest)"
   ]
  },
  {
   "cell_type": "code",
   "execution_count": 12,
   "metadata": {},
   "outputs": [],
   "source": [
    "dump_experiment(benchmarks, \"experiments/andrei/empty800/summed/tenant_random/dc_emptiest/benchmark.json\")\n",
    "into_directory(dcs, tenants, \"experiments/andrei/empty800/summed/tenant_random/dc_emptiest/data/\")"
   ]
  },
  {
   "cell_type": "code",
   "execution_count": null,
   "metadata": {},
   "outputs": [],
   "source": []
  },
  {
   "cell_type": "code",
   "execution_count": 21,
   "metadata": {},
   "outputs": [],
   "source": [
    "e = Evaluator_sum()\n",
    "dcs, tenants = from_directory(\"examples/dcs_empty_sorted/\")"
   ]
  },
  {
   "cell_type": "code",
   "execution_count": 22,
   "metadata": {},
   "outputs": [],
   "source": [
    "tenants1, tenants2 = tenants[:800], tenants[800:]"
   ]
  },
  {
   "cell_type": "code",
   "execution_count": 23,
   "metadata": {},
   "outputs": [
    {
     "name": "stdout",
     "output_type": "stream",
     "text": [
      "CPU times: user 11.3 s, sys: 794 ms, total: 12.1 s\n",
      "Wall time: 39min 39s\n"
     ]
    }
   ],
   "source": [
    "%time benchmarks, everything_placed = main_algo(3, 1, dcs, tenants1, e, get_tenants_random, get_dcs_utilized)"
   ]
  },
  {
   "cell_type": "code",
   "execution_count": 24,
   "metadata": {},
   "outputs": [],
   "source": [
    "dump_experiment(benchmarks, \"experiments/andrei/empty800/summed/tenant_random/dc_utilized/benchmark.json\")\n",
    "into_directory(dcs, tenants, \"experiments/andrei/empty800/summed/tenant_random/dc_utilized/data/\")"
   ]
  },
  {
   "cell_type": "code",
   "execution_count": null,
   "metadata": {},
   "outputs": [],
   "source": []
  },
  {
   "cell_type": "code",
   "execution_count": 26,
   "metadata": {},
   "outputs": [],
   "source": [
    "e = Evaluator_sum()\n",
    "dcs, tenants = from_directory(\"examples/dcs_empty_sorted/\")"
   ]
  },
  {
   "cell_type": "code",
   "execution_count": 27,
   "metadata": {},
   "outputs": [],
   "source": [
    "tenants1, tenants2 = tenants[:800], tenants[800:]"
   ]
  },
  {
   "cell_type": "code",
   "execution_count": 28,
   "metadata": {},
   "outputs": [
    {
     "name": "stdout",
     "output_type": "stream",
     "text": [
      "CPU times: user 14.5 s, sys: 525 ms, total: 15.1 s\n",
      "Wall time: 9min 12s\n"
     ]
    }
   ],
   "source": [
    "%time benchmarks, everything_placed = main_algo(3, 1, dcs, tenants1, e, get_tenants_random, get_dcs_random)"
   ]
  },
  {
   "cell_type": "code",
   "execution_count": 29,
   "metadata": {},
   "outputs": [],
   "source": [
    "dump_experiment(benchmarks, \"experiments/andrei/empty800/summed/tenant_random/dc_random/benchmark.json\")\n",
    "into_directory(dcs, tenants, \"experiments/andrei/empty800/summed/tenant_random/dc_random/data/\")"
   ]
  },
  {
   "cell_type": "code",
   "execution_count": null,
   "metadata": {},
   "outputs": [],
   "source": []
  },
  {
   "cell_type": "code",
   "execution_count": null,
   "metadata": {},
   "outputs": [],
   "source": []
  },
  {
   "cell_type": "code",
   "execution_count": null,
   "metadata": {},
   "outputs": [],
   "source": []
  },
  {
   "cell_type": "code",
   "execution_count": 32,
   "metadata": {},
   "outputs": [],
   "source": [
    "e = Evaluator_sum()\n",
    "dcs, tenants = from_directory(\"examples/dcs_empty_sorted/\")"
   ]
  },
  {
   "cell_type": "code",
   "execution_count": 33,
   "metadata": {},
   "outputs": [],
   "source": [
    "tenants1, tenants2 = tenants[:800], tenants[800:]"
   ]
  },
  {
   "cell_type": "code",
   "execution_count": 34,
   "metadata": {},
   "outputs": [
    {
     "name": "stdout",
     "output_type": "stream",
     "text": [
      "CPU times: user 13 s, sys: 545 ms, total: 13.6 s\n",
      "Wall time: 8min 33s\n"
     ]
    }
   ],
   "source": [
    "%time benchmarks, everything_placed = main_algo(3, 1, dcs, tenants1, e, get_tenants_heaviest, get_dcs_random)"
   ]
  },
  {
   "cell_type": "code",
   "execution_count": 35,
   "metadata": {},
   "outputs": [],
   "source": [
    "dump_experiment(benchmarks, \"experiments/andrei/empty800/summed/tenant_heaviest/dc_random/benchmark.json\")\n",
    "into_directory(dcs, tenants, \"experiments/andrei/empty800/summed/tenant_heaviest/dc_random/data/\")"
   ]
  },
  {
   "cell_type": "code",
   "execution_count": null,
   "metadata": {},
   "outputs": [],
   "source": []
  },
  {
   "cell_type": "code",
   "execution_count": null,
   "metadata": {},
   "outputs": [],
   "source": []
  },
  {
   "cell_type": "code",
   "execution_count": 37,
   "metadata": {},
   "outputs": [],
   "source": [
    "e = Evaluator_sum()\n",
    "dcs, tenants = from_directory(\"examples/dcs_empty_sorted/\")"
   ]
  },
  {
   "cell_type": "code",
   "execution_count": 38,
   "metadata": {},
   "outputs": [],
   "source": [
    "tenants1, tenants2 = tenants[:800], tenants[800:]"
   ]
  },
  {
   "cell_type": "code",
   "execution_count": 39,
   "metadata": {},
   "outputs": [
    {
     "name": "stdout",
     "output_type": "stream",
     "text": [
      "CPU times: user 12.8 s, sys: 568 ms, total: 13.3 s\n",
      "Wall time: 7min 50s\n"
     ]
    }
   ],
   "source": [
    "%time benchmarks, everything_placed = main_algo(3, 1, dcs, tenants1, e, get_tenants_heaviest, get_dcs_emptiest)"
   ]
  },
  {
   "cell_type": "code",
   "execution_count": 29,
   "metadata": {},
   "outputs": [],
   "source": [
    "dump_experiment(benchmarks, \"experiments/andrei/empty800/summed/tenant_heaviest/dc_emptiest/benchmark.json\")\n",
    "into_directory(dcs, tenants, \"experiments/andrei/empty800/summed/tenant_heaviest/dc_emptiest/data/\")"
   ]
  },
  {
   "cell_type": "code",
   "execution_count": null,
   "metadata": {},
   "outputs": [],
   "source": []
  },
  {
   "cell_type": "code",
   "execution_count": null,
   "metadata": {},
   "outputs": [],
   "source": []
  },
  {
   "cell_type": "code",
   "execution_count": null,
   "metadata": {},
   "outputs": [],
   "source": []
  },
  {
   "cell_type": "code",
   "execution_count": 41,
   "metadata": {},
   "outputs": [],
   "source": [
    "e = Evaluator_sum()\n",
    "dcs, tenants = from_directory(\"examples/dcs_empty_sorted/\")"
   ]
  },
  {
   "cell_type": "code",
   "execution_count": 42,
   "metadata": {},
   "outputs": [],
   "source": [
    "tenants1, tenants2 = tenants[:800], tenants[800:]"
   ]
  },
  {
   "cell_type": "code",
   "execution_count": 43,
   "metadata": {},
   "outputs": [
    {
     "name": "stdout",
     "output_type": "stream",
     "text": [
      "CPU times: user 10.9 s, sys: 666 ms, total: 11.5 s\n",
      "Wall time: 29min 56s\n"
     ]
    }
   ],
   "source": [
    "%time benchmarks, everything_placed = main_algo(3, 1, dcs, tenants1, e, get_tenants_heaviest, get_dcs_utilized)"
   ]
  },
  {
   "cell_type": "code",
   "execution_count": 44,
   "metadata": {},
   "outputs": [],
   "source": [
    "dump_experiment(benchmarks, \"experiments/andrei/empty800/summed/tenant_heaviest/dc_utilized/benchmark.json\")\n",
    "into_directory(dcs, tenants, \"experiments/andrei/empty800/summed/tenant_heaviest/dc_utilized/data/\")"
   ]
  },
  {
   "cell_type": "code",
   "execution_count": null,
   "metadata": {},
   "outputs": [],
   "source": []
  },
  {
   "cell_type": "code",
   "execution_count": null,
   "metadata": {},
   "outputs": [],
   "source": []
  },
  {
   "cell_type": "code",
   "execution_count": null,
   "metadata": {},
   "outputs": [],
   "source": []
  },
  {
   "cell_type": "code",
   "execution_count": 45,
   "metadata": {},
   "outputs": [],
   "source": [
    "e = Evaluator_sum()\n",
    "dcs, tenants = from_directory(\"examples/dcs_empty_sorted/\")"
   ]
  },
  {
   "cell_type": "code",
   "execution_count": 46,
   "metadata": {},
   "outputs": [],
   "source": [
    "tenants1, tenants2 = tenants[:800], tenants[800:]"
   ]
  },
  {
   "cell_type": "code",
   "execution_count": 47,
   "metadata": {},
   "outputs": [
    {
     "name": "stdout",
     "output_type": "stream",
     "text": [
      "CPU times: user 12 s, sys: 517 ms, total: 12.5 s\n",
      "Wall time: 7min 46s\n"
     ]
    }
   ],
   "source": [
    "%time benchmarks, everything_placed = main_algo(3, 1, dcs, tenants1, e, get_tenants_lightiest, get_dcs_emptiest)"
   ]
  },
  {
   "cell_type": "code",
   "execution_count": 48,
   "metadata": {},
   "outputs": [],
   "source": [
    "dump_experiment(benchmarks, \"experiments/andrei/empty800/summed/tenant_lightest/dc_emptiest/benchmark.json\")\n",
    "into_directory(dcs, tenants, \"experiments/andrei/empty800/summed/tenant_lightest/dc_emptiest/data/\")"
   ]
  },
  {
   "cell_type": "code",
   "execution_count": null,
   "metadata": {},
   "outputs": [],
   "source": []
  },
  {
   "cell_type": "code",
   "execution_count": null,
   "metadata": {},
   "outputs": [],
   "source": []
  },
  {
   "cell_type": "code",
   "execution_count": 50,
   "metadata": {},
   "outputs": [],
   "source": [
    "e = Evaluator_sum()\n",
    "dcs, tenants = from_directory(\"examples/dcs_empty_sorted/\")"
   ]
  },
  {
   "cell_type": "code",
   "execution_count": 51,
   "metadata": {},
   "outputs": [],
   "source": [
    "tenants1, tenants2 = tenants[:800], tenants[800:]"
   ]
  },
  {
   "cell_type": "code",
   "execution_count": 52,
   "metadata": {},
   "outputs": [
    {
     "name": "stdout",
     "output_type": "stream",
     "text": [
      "CPU times: user 10.9 s, sys: 991 ms, total: 11.9 s\n",
      "Wall time: 54min 12s\n"
     ]
    }
   ],
   "source": [
    "%time benchmarks, everything_placed = main_algo(3, 1, dcs, tenants1, e, get_tenants_lightiest, get_dcs_utilized)"
   ]
  },
  {
   "cell_type": "code",
   "execution_count": 53,
   "metadata": {},
   "outputs": [],
   "source": [
    "dump_experiment(benchmarks, \"experiments/andrei/empty800/summed/tenant_lightest/dc_utilized/benchmark.json\")\n",
    "into_directory(dcs, tenants, \"experiments/andrei/empty800/summed/tenant_lightest/dc_utilized/data/\")"
   ]
  },
  {
   "cell_type": "code",
   "execution_count": null,
   "metadata": {},
   "outputs": [],
   "source": []
  },
  {
   "cell_type": "code",
   "execution_count": null,
   "metadata": {},
   "outputs": [],
   "source": []
  },
  {
   "cell_type": "code",
   "execution_count": 54,
   "metadata": {},
   "outputs": [],
   "source": [
    "e = Evaluator_sum()\n",
    "dcs, tenants = from_directory(\"examples/dcs_empty_sorted/\")"
   ]
  },
  {
   "cell_type": "code",
   "execution_count": 55,
   "metadata": {},
   "outputs": [],
   "source": [
    "tenants1, tenants2 = tenants[:800], tenants[800:]"
   ]
  },
  {
   "cell_type": "code",
   "execution_count": 56,
   "metadata": {},
   "outputs": [
    {
     "name": "stdout",
     "output_type": "stream",
     "text": [
      "CPU times: user 14.4 s, sys: 658 ms, total: 15.1 s\n",
      "Wall time: 9min 48s\n"
     ]
    }
   ],
   "source": [
    "%time benchmarks, everything_placed = main_algo(3, 1, dcs, tenants1, e, get_tenants_lightiest, get_dcs_random)"
   ]
  },
  {
   "cell_type": "code",
   "execution_count": 57,
   "metadata": {},
   "outputs": [],
   "source": [
    "dump_experiment(benchmarks, \"experiments/andrei/empty800/summed/tenant_lightest/dc_random/benchmark.json\")\n",
    "into_directory(dcs, tenants, \"experiments/andrei/empty800/summed/tenant_lightest/dc_random/data/\")"
   ]
  },
  {
   "cell_type": "code",
   "execution_count": null,
   "metadata": {},
   "outputs": [],
   "source": []
  },
  {
   "cell_type": "code",
   "execution_count": null,
   "metadata": {},
   "outputs": [],
   "source": []
  },
  {
   "cell_type": "code",
   "execution_count": 58,
   "metadata": {},
   "outputs": [
    {
     "data": {
      "text/plain": [
       "({'placed': 698,\n",
       "  'total': 800,\n",
       "  'vals': [('3', 118),\n",
       "   ('4', 46),\n",
       "   ('2', 43),\n",
       "   ('5', 102),\n",
       "   ('1', 130),\n",
       "   ('7', 94),\n",
       "   ('6', 65),\n",
       "   ('8', 100)]},\n",
       " {'avg': 0.2903117666778411,\n",
       "  'max': 0.4268469338483824,\n",
       "  'vals': [0.4268469338483824,\n",
       "   0.16366838596049818,\n",
       "   0.3485942882542505,\n",
       "   0.16599478302110504,\n",
       "   0.406843555168914,\n",
       "   0.17751785529448297,\n",
       "   0.2869762444789304,\n",
       "   0.39188612099644127]},\n",
       " [31.30626368522644,\n",
       "  24.41778874397278,\n",
       "  2.832810163497925,\n",
       "  16.359923362731934,\n",
       "  94.56232452392578,\n",
       "  18.09459662437439,\n",
       "  44.38703727722168,\n",
       "  50.72416877746582],\n",
       " 99.3683111667633)"
      ]
     },
     "execution_count": 58,
     "metadata": {},
     "output_type": "execute_result"
    }
   ],
   "source": [
    "benchmarks[-1]"
   ]
  },
  {
   "cell_type": "code",
   "execution_count": 25,
   "metadata": {},
   "outputs": [
    {
     "data": {
      "text/plain": [
       "({'placed': 325,\n",
       "  'total': 800,\n",
       "  'vals': [('1', 58), ('8', 89), ('2', 55), ('5', 123)]},\n",
       " {'avg': 0.15000152378630421,\n",
       "  'max': 0.5461794983326084,\n",
       "  'vals': [0.1971269917914051,\n",
       "   0.2201534784249591,\n",
       "   0.0,\n",
       "   0.0,\n",
       "   0.5461794983326084,\n",
       "   0.0,\n",
       "   0.0,\n",
       "   0.38348754448398575]},\n",
       " [0.1469721794128418,\n",
       "  454.650381565094,\n",
       "  None,\n",
       "  None,\n",
       "  660.2073061466217,\n",
       "  None,\n",
       "  None,\n",
       "  331.40085196495056],\n",
       " 664.159606218338)"
      ]
     },
     "execution_count": 25,
     "metadata": {},
     "output_type": "execute_result"
    }
   ],
   "source": [
    "benchmarks[-1]"
   ]
  },
  {
   "cell_type": "code",
   "execution_count": 17,
   "metadata": {},
   "outputs": [],
   "source": [
    "_, tenants_other = from_directory(\"experiments/andrei/empty800/summed/tenant_random/dc_emptiest/data/\")"
   ]
  },
  {
   "cell_type": "code",
   "execution_count": 20,
   "metadata": {},
   "outputs": [
    {
     "data": {
      "text/plain": [
       "580"
      ]
     },
     "execution_count": 20,
     "metadata": {},
     "output_type": "execute_result"
    }
   ],
   "source": [
    "len([x for x in tenants_other if x.mark is not None])"
   ]
  },
  {
   "cell_type": "code",
   "execution_count": 30,
   "metadata": {},
   "outputs": [
    {
     "data": {
      "text/plain": [
       "<matplotlib.axes._subplots.AxesSubplot at 0x7f0e0e1eb3c8>"
      ]
     },
     "execution_count": 30,
     "metadata": {},
     "output_type": "execute_result"
    },
    {
     "data": {
      "image/png": "[encoded data removed]",
      "text/plain": [
       "<Figure size 432x288 with 1 Axes>"
      ]
     },
     "metadata": {
      "needs_background": "light"
     },
     "output_type": "display_data"
    }
   ],
   "source": [
    "import seaborn as sns\n",
    "import pandas as pd\n",
    "# sort_order = [2, 3, 5, 6, 1, 0, 4, 7]\n",
    "df = []\n",
    "for i, benchmark in enumerate(benchmarks):\n",
    "    vals = benchmark[1][\"vals\"]\n",
    "#     vals = [vals[i] for i in sort_order]\n",
    "    for j,val in enumerate(vals):\n",
    "        df.append({\"итераций\": i+1, \"номер ЦОД\":j+1, \"загрузка ресурсов (%)\": val})\n",
    "\n",
    "\n",
    "df = pd.DataFrame().from_records(df)\n",
    "sns.barplot(x=\"номер ЦОД\", y=\"загрузка ресурсов (%)\", hue=\"итераций\", data=df)"
   ]
  },
  {
   "cell_type": "code",
   "execution_count": 9,
   "metadata": {},
   "outputs": [
    {
     "data": {
      "text/plain": [
       "<matplotlib.axes._subplots.AxesSubplot at 0x7f0e18664550>"
      ]
     },
     "execution_count": 9,
     "metadata": {},
     "output_type": "execute_result"
    },
    {
     "data": {
      "image/png": "[encoded data removed]",
      "text/plain": [
       "<Figure size 432x288 with 1 Axes>"
      ]
     },
     "metadata": {
      "needs_background": "light"
     },
     "output_type": "display_data"
    }
   ],
   "source": [
    "import seaborn as sns\n",
    "import pandas as pd\n",
    "# sort_order = [2, 3, 5, 6, 1, 0, 4, 7]\n",
    "df = []\n",
    "for i, benchmark in enumerate(benchmarks):\n",
    "    vals = benchmark[1][\"vals\"]\n",
    "#     vals = [vals[i] for i in sort_order]\n",
    "    for j,val in enumerate(vals):\n",
    "        df.append({\"итераций\": i+1, \"номер ЦОД\":j+1, \"загрузка ресурсов (%)\": val})\n",
    "\n",
    "\n",
    "df = pd.DataFrame().from_records(df)\n",
    "sns.barplot(x=\"номер ЦОД\", y=\"загрузка ресурсов (%)\", hue=\"итераций\", data=df)"
   ]
  },
  {
   "cell_type": "code",
   "execution_count": null,
   "metadata": {},
   "outputs": [],
   "source": []
  },
  {
   "cell_type": "code",
   "execution_count": 15,
   "metadata": {},
   "outputs": [
    {
     "data": {
      "text/plain": [
       "[({'placed': 207,\n",
       "   'total': 800,\n",
       "   'vals': [('5', 49),\n",
       "    ('4', 16),\n",
       "    ('2', 21),\n",
       "    ('3', 42),\n",
       "    ('1', 30),\n",
       "    ('7', 15),\n",
       "    ('6', 24),\n",
       "    ('8', 10)]},\n",
       "  {'avg': 0.08818151342455734,\n",
       "   'max': 0.17094388864723792,\n",
       "   'vals': [0.1230082085948817,\n",
       "    0.08290350987545603,\n",
       "    0.12323591510167796,\n",
       "    0.053474033673227415,\n",
       "    0.17094388864723792,\n",
       "    0.06355449746403063,\n",
       "    0.053121642592813656,\n",
       "    0.044270462633451954]},\n",
       "  [77.98375940322876,\n",
       "   56.84868884086609,\n",
       "   76.95585250854492,\n",
       "   64.51919603347778,\n",
       "   11.308684349060059,\n",
       "   415.9469084739685,\n",
       "   34.51923632621765,\n",
       "   21.186854362487793],\n",
       "  420.84837913513184),\n",
       " ({'placed': 406,\n",
       "   'total': 800,\n",
       "   'vals': [('3', 72),\n",
       "    ('4', 36),\n",
       "    ('8', 33),\n",
       "    ('5', 54),\n",
       "    ('1', 80),\n",
       "    ('7', 65),\n",
       "    ('6', 36),\n",
       "    ('2', 30)]},\n",
       "  {'avg': 0.176942065644714,\n",
       "   'max': 0.2870593915982617,\n",
       "   'vals': [0.2870593915982617,\n",
       "    0.11787646244810668,\n",
       "    0.22691410156684075,\n",
       "    0.13398150343846335,\n",
       "    0.1850079744816587,\n",
       "    0.10878791015422834,\n",
       "    0.223588396800764,\n",
       "    0.13167259786476868]},\n",
       "  [51.39671301841736,\n",
       "   58.92162036895752,\n",
       "   70.26275563240051,\n",
       "   73.74518585205078,\n",
       "   0.14615345001220703,\n",
       "   332.4270238876343,\n",
       "   82.38006782531738,\n",
       "   11.922987461090088],\n",
       "  336.6199517250061),\n",
       " ({'placed': 580,\n",
       "   'total': 800,\n",
       "   'vals': [('3', 108),\n",
       "    ('4', 66),\n",
       "    ('8', 57),\n",
       "    ('5', 54),\n",
       "    ('1', 90),\n",
       "    ('7', 86),\n",
       "    ('6', 66),\n",
       "    ('2', 53)]},\n",
       "  {'avg': 0.24784384237954468,\n",
       "   'max': 0.3297033003667074,\n",
       "   'vals': [0.3232737807822308,\n",
       "    0.2053088438797333,\n",
       "    0.3297033003667074,\n",
       "    0.22112876452454353,\n",
       "    0.1850079744816587,\n",
       "    0.19977228030224614,\n",
       "    0.299749313596753,\n",
       "    0.2001423487544484]},\n",
       "  [0.21814727783203125,\n",
       "   57.84755539894104,\n",
       "   34.88990616798401,\n",
       "   53.45280599594116,\n",
       "   None,\n",
       "   321.7737591266632,\n",
       "   28.5794575214386,\n",
       "   0.17630290985107422],\n",
       "  325.9195659160614)]"
      ]
     },
     "execution_count": 15,
     "metadata": {},
     "output_type": "execute_result"
    }
   ],
   "source": [
    "benchmarks"
   ]
  }
 ],
 "metadata": {
  "kernelspec": {
   "display_name": "Python 3",
   "language": "python",
   "name": "python3"
  },
  "language_info": {
   "codemirror_mode": {
    "name": "ipython",
    "version": 3
   },
   "file_extension": ".py",
   "mimetype": "text/x-python",
   "name": "python",
   "nbconvert_exporter": "python",
   "pygments_lexer": "ipython3",
   "version": "3.5.5"
  }
 },
 "nbformat": 4,
 "nbformat_minor": 2
}
